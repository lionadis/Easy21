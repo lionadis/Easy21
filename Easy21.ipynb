{
  "nbformat": 4,
  "nbformat_minor": 0,
  "metadata": {
    "colab": {
      "name": "Easy21.ipynb",
      "version": "0.3.2",
      "provenance": [],
      "collapsed_sections": [],
      "include_colab_link": true
    },
    "kernelspec": {
      "name": "python3",
      "display_name": "Python 3"
    }
  },
  "cells": [
    {
      "cell_type": "markdown",
      "metadata": {
        "id": "view-in-github",
        "colab_type": "text"
      },
      "source": [
        "<a href=\"https://colab.research.google.com/github/lionadis/Easy21/blob/master/Easy21.ipynb\" target=\"_parent\"><img src=\"https://colab.research.google.com/assets/colab-badge.svg\" alt=\"Open In Colab\"/></a>"
      ]
    },
    {
      "cell_type": "code",
      "metadata": {
        "id": "VtGJfmg8lPtj",
        "colab_type": "code",
        "colab": {}
      },
      "source": [
        "import numpy as np\n",
        "from numpy.random import choice, rand\n",
        "from enum import Enum\n",
        "from copy import copy\n",
        "from collections import defaultdict\n",
        "from tqdm import tqdm"
      ],
      "execution_count": 0,
      "outputs": []
    },
    {
      "cell_type": "code",
      "metadata": {
        "id": "r8O3YGmxOYIC",
        "colab_type": "code",
        "colab": {}
      },
      "source": [
        "class State:\n",
        "  def __init__(self, player=0, dealer=0, is_terminated=False):\n",
        "    self.player = player\n",
        "    self.dealer = dealer\n",
        "    self.is_terminated = is_terminated\n",
        "  \n",
        "  def tuple(self):\n",
        "    return (self.player, self.dealer)"
      ],
      "execution_count": 0,
      "outputs": []
    },
    {
      "cell_type": "code",
      "metadata": {
        "colab_type": "code",
        "id": "euJo6TNzOjbL",
        "colab": {}
      },
      "source": [
        "class Action(Enum):\n",
        "  HIT = 0\n",
        "  STICK = 1\n",
        "  \n",
        "  @staticmethod\n",
        "  def get_actions():\n",
        "    return [Action.HIT, Action.STICK]"
      ],
      "execution_count": 0,
      "outputs": []
    },
    {
      "cell_type": "code",
      "metadata": {
        "id": "L7uysAFlPaUt",
        "colab_type": "code",
        "colab": {}
      },
      "source": [
        "class Player:\n",
        "\n",
        "  def action(self, s):\n",
        "    raise Exception(\"Needs to be implemented\")"
      ],
      "execution_count": 0,
      "outputs": []
    },
    {
      "cell_type": "code",
      "metadata": {
        "id": "8xuBcQS6qarj",
        "colab_type": "code",
        "colab": {}
      },
      "source": [
        "class RandomPlayer(Player):\n",
        "  def action(self, s):\n",
        "    return choice(Action.get_actions())"
      ],
      "execution_count": 0,
      "outputs": []
    },
    {
      "cell_type": "code",
      "metadata": {
        "id": "1c93PDCsPBX5",
        "colab_type": "code",
        "colab": {}
      },
      "source": [
        "class Dealer:\n",
        "  def action(self, s):\n",
        "    return Action.HIT if s.dealer < 17 else Action.STICK"
      ],
      "execution_count": 0,
      "outputs": []
    },
    {
      "cell_type": "code",
      "metadata": {
        "id": "-RXfFURnOmoC",
        "colab_type": "code",
        "colab": {}
      },
      "source": [
        "class Easy21Env:\n",
        "\n",
        "  def __init__(self, dealer):\n",
        "    self.dealer = dealer\n",
        "  \n",
        "  def step(self, s, a):\n",
        "    if s.is_terminated:\n",
        "      print(\"Can't take any actions, Game is over\")\n",
        "      return s, 0\n",
        "    next_s = copy(s)\n",
        "    if a == Action.HIT:\n",
        "      next_s.player += self._deal()\n",
        "      next_s.is_terminated = self._check_bust(next_s.player)\n",
        "    else:\n",
        "      while(not next_s.is_terminated and self.dealer.action(next_s) == Action.HIT):\n",
        "        next_s.dealer += self._deal()\n",
        "        next_s.is_terminated = self._check_bust(next_s.dealer)\n",
        "      next_s.is_terminated = True\n",
        "    return next_s, self._compute_reward(next_s)\n",
        "  \n",
        "  def _compute_reward(self, s):\n",
        "    if not s.is_terminated or s.player == s.dealer:\n",
        "      return 0\n",
        "    if s.player > s.dealer:\n",
        "      return -1 if self._check_bust(s.player) else 1\n",
        "    else:\n",
        "      return 1 if self._check_bust(s.dealer) else -1\n",
        "    \n",
        "  \n",
        "  def _check_bust(self, value):\n",
        "    return value <= 1 or value >= 22\n",
        "  \n",
        "  def _deal(self, color=None):\n",
        "    value = choice(range(1, 11))\n",
        "    if color:\n",
        "      coef = 1 if color=='b' else -1\n",
        "    else:\n",
        "      coef = choice([1, -1], p=[2.0/3, 1.0/3])\n",
        "    return value * coef\n",
        "   \n",
        "  def reset(self):\n",
        "      return State(env._deal('b'), env._deal('b'))\n"
      ],
      "execution_count": 0,
      "outputs": []
    },
    {
      "cell_type": "code",
      "metadata": {
        "id": "c-Jkmj3EzsP7",
        "colab_type": "code",
        "outputId": "30e97f46-f6f9-4c31-c432-2193b7200d1a",
        "colab": {
          "base_uri": "https://localhost:8080/",
          "height": 136
        }
      },
      "source": [
        "env = Easy21Env(Dealer())\n",
        "player = RandomPlayer()\n",
        "s = env.reset()\n",
        "print(s.__dict__)\n",
        "while not s.is_terminated:\n",
        "  action = player.action(s)\n",
        "  s, reward = env.step(s, action)\n",
        "  print(action)\n",
        "  print(s.__dict__)\n",
        "  print(reward)"
      ],
      "execution_count": 38,
      "outputs": [
        {
          "output_type": "stream",
          "text": [
            "{'player': 6, 'dealer': 10, 'is_terminated': False}\n",
            "Action.HIT\n",
            "{'player': 11, 'dealer': 10, 'is_terminated': False}\n",
            "0\n",
            "Action.STICK\n",
            "{'player': 11, 'dealer': 25, 'is_terminated': True}\n",
            "1\n"
          ],
          "name": "stdout"
        }
      ]
    },
    {
      "cell_type": "markdown",
      "metadata": {
        "id": "HLKgeNwxUYC9",
        "colab_type": "text"
      },
      "source": [
        "#Monte-Carlo Control"
      ]
    },
    {
      "cell_type": "markdown",
      "metadata": {
        "id": "74TaNN3r0BkN",
        "colab_type": "text"
      },
      "source": [
        "Repeat forever\n",
        "\n",
        "1.   Sample the k-th episode using $\\pi_t$, $\\{S_1,A_1,R_2,.....,S_T\\} \\sim \\pi_t $\n",
        "2.   $\\forall(S_t,A_t)$:\n",
        "  *   $N(S_t,A_t) \\leftarrow N(S_t,A_t) + 1$\n",
        "  *   $Q(S_t, A_t) \\leftarrow Q(S_t, A_t) + \\frac{1}{N(S_t,A_t)}(G_t - Q(S_t,A_t))$\n",
        "3.   $\\pi_{t+1} \\leftarrow \\epsilon{\\text -}greedy(Q)$\n",
        "\n",
        "\n",
        "\n",
        "\n",
        "\n"
      ]
    },
    {
      "cell_type": "code",
      "metadata": {
        "id": "MFdVKbHhwl9u",
        "colab_type": "code",
        "colab": {}
      },
      "source": [
        "class MCAgent(Player):\n",
        "  def __init__(self, N0=100,gamma=1):\n",
        "    self.Q = defaultdict(int) #creates a dict with a dictionnary with a default value of 0\n",
        "    self.N = defaultdict(int) # number of time the pair (s, a) is visited\n",
        "    self.N0 = N0\n",
        "    self.gamma = gamma # discount factor\n",
        "    \n",
        "  def action(self, s):\n",
        "    '''\n",
        "      compute the number of times we visisted state s\n",
        "      N(S) = sum N(s,a) for all a in actions\n",
        "    '''\n",
        "    N_total = 0\n",
        "    actions = Action.get_actions()\n",
        "    for action in actions:\n",
        "      N_total += self.N[(s.tuple(), action)]\n",
        "    '''\n",
        "      choose a random action with eps probability\n",
        "    '''\n",
        "    eps = 1.0 * self.N0 / (self.N0 `+ N_total)\n",
        "    if rand() <= eps:\n",
        "      return choice(actions)\n",
        "    '''\n",
        "      else pick the best action, argmax_a Q[(s, a)]\n",
        "    '''\n",
        "    best_action, best_value = None, -1e9\n",
        "    for action in actions:\n",
        "      if best_value < self.Q[(s, action)]:\n",
        "        best_action, best_value = action, self.Q[(s, action)]\n",
        "    return best_action\n",
        "  \n",
        "  def learn(self, h):\n",
        "    '''\n",
        "      h: the history of an episode\n",
        "    '''\n",
        "    h = h[::-1]\n",
        "    g_t = 0\n",
        "    for (s, a, r) in h:\n",
        "      g_t += r\n",
        "      self.N[(s.tuple(), a)] += 1\n",
        "      self.Q[(s.tuple(), a)] += 1.0 / self.N[(s.tuple(),a)] * (g_t - self.Q[(s.tuple(), a)])\n",
        "  \n",
        "  def value_function(self):\n",
        "    v = defaultdict(int)\n",
        "    for (s, a), q in self.Q.items():\n",
        "      v[s] = max(v[s], q)\n",
        "    return v"
      ],
      "execution_count": 0,
      "outputs": []
    },
    {
      "cell_type": "code",
      "metadata": {
        "id": "lGCHWiNcoLxp",
        "colab_type": "code",
        "outputId": "19f2ebb5-0125-4647-fa45-6828c3490318",
        "colab": {
          "base_uri": "https://localhost:8080/",
          "height": 34
        }
      },
      "source": [
        "def monte_carlo_control(num_iterations=100):\n",
        "  agent = MCAgent()\n",
        "  for _ in tqdm(range(num_iterations)):\n",
        "    env = Easy21Env(Dealer())\n",
        "    s = env.reset()\n",
        "    h = [] # history\n",
        "    while not s.is_terminated:\n",
        "      a = agent.action(s)\n",
        "      next_s, r = env.step(s, a)\n",
        "      h.append((s, a, r))\n",
        "      s = next_s\n",
        "    agent.learn(h)\n",
        "  return agent.value_function()\n",
        "v = monte_carlo_control()"
      ],
      "execution_count": 114,
      "outputs": [
        {
          "output_type": "stream",
          "text": [
            "100%|██████████| 100/100 [00:00<00:00, 3641.14it/s]\n"
          ],
          "name": "stderr"
        }
      ]
    },
    {
      "cell_type": "code",
      "metadata": {
        "id": "jHx0ANrdzBXr",
        "colab_type": "code",
        "colab": {
          "base_uri": "https://localhost:8080/",
          "height": 180
        },
        "outputId": "837990cb-f6f7-4903-9bc6-9cb0553b5cb6"
      },
      "source": [
        "def plot_value_function(v):\n",
        "  "
      ],
      "execution_count": 105,
      "outputs": [
        {
          "output_type": "error",
          "ename": "AttributeError",
          "evalue": "ignored",
          "traceback": [
            "\u001b[0;31m---------------------------------------------------------------------------\u001b[0m",
            "\u001b[0;31mAttributeError\u001b[0m                            Traceback (most recent call last)",
            "\u001b[0;32m<ipython-input-105-3902ad532116>\u001b[0m in \u001b[0;36m<module>\u001b[0;34m()\u001b[0m\n\u001b[1;32m      1\u001b[0m \u001b[0magent\u001b[0m \u001b[0;34m=\u001b[0m \u001b[0mMCAgent\u001b[0m\u001b[0;34m(\u001b[0m\u001b[0;34m)\u001b[0m\u001b[0;34m\u001b[0m\u001b[0;34m\u001b[0m\u001b[0m\n\u001b[0;32m----> 2\u001b[0;31m \u001b[0mv\u001b[0m \u001b[0;34m=\u001b[0m \u001b[0magent\u001b[0m\u001b[0;34m.\u001b[0m\u001b[0mget_value_function\u001b[0m\u001b[0;34m(\u001b[0m\u001b[0;34m)\u001b[0m\u001b[0;34m\u001b[0m\u001b[0;34m\u001b[0m\u001b[0m\n\u001b[0m",
            "\u001b[0;31mAttributeError\u001b[0m: 'MCAgent' object has no attribute 'get_value_function'"
          ]
        }
      ]
    },
    {
      "cell_type": "code",
      "metadata": {
        "id": "n06MqGSDonQl",
        "colab_type": "code",
        "colab": {
          "base_uri": "https://localhost:8080/",
          "height": 34
        },
        "outputId": "bffd9288-2c66-4e65-84c2-0b8648bdd2c2"
      },
      "source": [
        "v"
      ],
      "execution_count": 84,
      "outputs": [
        {
          "output_type": "execute_result",
          "data": {
            "text/plain": [
              "defaultdict(int, {})"
            ]
          },
          "metadata": {
            "tags": []
          },
          "execution_count": 84
        }
      ]
    },
    {
      "cell_type": "code",
      "metadata": {
        "id": "LIGU1jR60HVb",
        "colab_type": "code",
        "colab": {}
      },
      "source": [
        "d  = defaultdict(int)"
      ],
      "execution_count": 0,
      "outputs": []
    },
    {
      "cell_type": "code",
      "metadata": {
        "id": "FRgOjlJl0JJu",
        "colab_type": "code",
        "colab": {
          "base_uri": "https://localhost:8080/",
          "height": 34
        },
        "outputId": "f860b6ea-3437-432c-f153-b53d2739125f"
      },
      "source": [
        "d[(1,2)]"
      ],
      "execution_count": 14,
      "outputs": [
        {
          "output_type": "execute_result",
          "data": {
            "text/plain": [
              "0"
            ]
          },
          "metadata": {
            "tags": []
          },
          "execution_count": 14
        }
      ]
    },
    {
      "cell_type": "code",
      "metadata": {
        "id": "NgBhDSfd0RXN",
        "colab_type": "code",
        "colab": {
          "base_uri": "https://localhost:8080/",
          "height": 34
        },
        "outputId": "8540f2eb-a525-4ee7-83df-18f085636847"
      },
      "source": [
        "dict(d)"
      ],
      "execution_count": 15,
      "outputs": [
        {
          "output_type": "execute_result",
          "data": {
            "text/plain": [
              "{(1, 2): 0}"
            ]
          },
          "metadata": {
            "tags": []
          },
          "execution_count": 15
        }
      ]
    },
    {
      "cell_type": "code",
      "metadata": {
        "id": "ONGIx5l70YKl",
        "colab_type": "code",
        "colab": {}
      },
      "source": [
        "s1 = State()"
      ],
      "execution_count": 0,
      "outputs": []
    },
    {
      "cell_type": "code",
      "metadata": {
        "id": "9N4kFSL00Z1E",
        "colab_type": "code",
        "outputId": "da20d02e-557e-4d08-98af-33b18b76a061",
        "colab": {
          "base_uri": "https://localhost:8080/",
          "height": 34
        }
      },
      "source": [
        "s == s1"
      ],
      "execution_count": 0,
      "outputs": [
        {
          "output_type": "execute_result",
          "data": {
            "text/plain": [
              "False"
            ]
          },
          "metadata": {
            "tags": []
          },
          "execution_count": 130
        }
      ]
    },
    {
      "cell_type": "code",
      "metadata": {
        "id": "dPy5Utlm0Kud",
        "colab_type": "code",
        "colab": {}
      },
      "source": [
        "d[(s,1)]=1"
      ],
      "execution_count": 0,
      "outputs": []
    },
    {
      "cell_type": "code",
      "metadata": {
        "id": "fNpP9f6m0M4e",
        "colab_type": "code",
        "outputId": "f7f393d4-5052-4829-835b-22c3da9af187",
        "colab": {
          "base_uri": "https://localhost:8080/",
          "height": 163
        }
      },
      "source": [
        "d[(s1,1)]"
      ],
      "execution_count": 0,
      "outputs": [
        {
          "output_type": "error",
          "ename": "KeyError",
          "evalue": "ignored",
          "traceback": [
            "\u001b[0;31m---------------------------------------------------------------------------\u001b[0m",
            "\u001b[0;31mKeyError\u001b[0m                                  Traceback (most recent call last)",
            "\u001b[0;32m<ipython-input-131-fe52af80d848>\u001b[0m in \u001b[0;36m<module>\u001b[0;34m()\u001b[0m\n\u001b[0;32m----> 1\u001b[0;31m \u001b[0md\u001b[0m\u001b[0;34m[\u001b[0m\u001b[0;34m(\u001b[0m\u001b[0ms1\u001b[0m\u001b[0;34m,\u001b[0m\u001b[0;36m1\u001b[0m\u001b[0;34m)\u001b[0m\u001b[0;34m]\u001b[0m\u001b[0;34m\u001b[0m\u001b[0;34m\u001b[0m\u001b[0m\n\u001b[0m",
            "\u001b[0;31mKeyError\u001b[0m: (<__main__.State object at 0x7f3c2474c588>, 1)"
          ]
        }
      ]
    },
    {
      "cell_type": "code",
      "metadata": {
        "id": "3ikX8wZk0byQ",
        "colab_type": "code",
        "colab": {
          "base_uri": "https://localhost:8080/",
          "height": 68
        },
        "outputId": "b5f4d423-a497-468f-f4ad-d65e548d02ef"
      },
      "source": [
        "np.meshgrid(range(1,3),range(1,3))"
      ],
      "execution_count": 79,
      "outputs": [
        {
          "output_type": "execute_result",
          "data": {
            "text/plain": [
              "[array([[1, 2],\n",
              "        [1, 2]]), array([[1, 1],\n",
              "        [2, 2]])]"
            ]
          },
          "metadata": {
            "tags": []
          },
          "execution_count": 79
        }
      ]
    },
    {
      "cell_type": "code",
      "metadata": {
        "id": "jGzYAhZYyO70",
        "colab_type": "code",
        "colab": {}
      },
      "source": [
        ""
      ],
      "execution_count": 0,
      "outputs": []
    }
  ]
}